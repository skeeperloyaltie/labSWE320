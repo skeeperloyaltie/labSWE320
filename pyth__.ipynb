{
 "cells": [
  {
   "cell_type": "markdown",
   "metadata": {},
   "source": [
    "### Polymorphism"
   ]
  },
  {
   "cell_type": "markdown",
   "metadata": {},
   "source": [
    "#### Test On overloading and polymorphism"
   ]
  },
  {
   "cell_type": "markdown",
   "metadata": {},
   "source": [
    "### Operator Overloading"
   ]
  },
  {
   "cell_type": "code",
   "execution_count": 14,
   "metadata": {},
   "outputs": [],
   "source": [
    "class operand:\n",
    "    def __init__(self, a):\n",
    "        self.a = a \n",
    "        \n",
    "    def __lt__(self, other):\n",
    "        if (self.a < other.a):\n",
    "            return str(self.a) + ' is less than ' + str(other.a)\n",
    "        else:\n",
    "            return str(other.a) + 'is less than ' + str(self.a)\n",
    "        \n",
    "    def __eq__(self, other):\n",
    "        if (self.a == other.a):\n",
    "            return 'Equal'\n",
    "        else:\n",
    "            return 'Not Equal'"
   ]
  },
  {
   "cell_type": "code",
   "execution_count": 15,
   "metadata": {},
   "outputs": [
    {
     "name": "stdout",
     "output_type": "stream",
     "text": [
      "2 is less than 3\n",
      "Equal\n"
     ]
    }
   ],
   "source": [
    "obj1 = operand(2)\n",
    "obj2 = operand(3)\n",
    "print(obj1 < obj2)\n",
    "\n",
    "obj1 = operand(6)\n",
    "obj2 = operand(6)\n",
    "print(obj1 == obj2)"
   ]
  },
  {
   "cell_type": "code",
   "execution_count": 9,
   "metadata": {},
   "outputs": [
    {
     "data": {
      "text/plain": [
       "2"
      ]
     },
     "execution_count": 9,
     "metadata": {},
     "output_type": "execute_result"
    }
   ],
   "source": [
    "def sys__(x, y):\n",
    "    return (x[0] * x[1]) - (y[1] // y[0])\n",
    "\n",
    "x = [1,3]\n",
    "y = [10,13]\n",
    "\n",
    "\n",
    "\n",
    "sys__(x, y)"
   ]
  },
  {
   "cell_type": "markdown",
   "metadata": {},
   "source": [
    "### Exceptions and errors"
   ]
  },
  {
   "cell_type": "code",
   "execution_count": 7,
   "metadata": {},
   "outputs": [
    {
     "name": "stdout",
     "output_type": "stream",
     "text": [
      "0.75\n",
      "7\n"
     ]
    }
   ],
   "source": [
    "try:\n",
    "    num1 = int(input('Enter x: '))\n",
    "    num2 = int(input('Enter y: '))\n",
    "\n",
    "    print(num1 / num2)\n",
    "    print(num1 + num2)\n",
    "except ValueError:\n",
    "    print('Just integers')\n",
    "except ZeroDivisionError:\n",
    "    print(\"Dont do that divide with a whole number\")\n",
    "except:\n",
    "    print('Nulls i dont know shit')"
   ]
  },
  {
   "cell_type": "code",
   "execution_count": 13,
   "metadata": {},
   "outputs": [
    {
     "name": "stdout",
     "output_type": "stream",
     "text": [
      "Hello\n",
      "Problem\n",
      "Check this\n",
      "Nothing just go on\n",
      "Bye\n"
     ]
    }
   ],
   "source": [
    "def foo():  \n",
    "    try:\n",
    "        print(\"Hello\")   \n",
    "        raise ValueError\n",
    "    except:      \n",
    "        print(\"Problem\")\n",
    "        try:\n",
    "            print('Check this')\n",
    "            raise ValueError\n",
    "        except:\n",
    "            print('Nothing just go on')\n",
    "    else:     \n",
    "        print(\"There \")   \n",
    "    finally:        \n",
    "        print(\"Bye\")\n",
    "foo()\n"
   ]
  },
  {
   "cell_type": "markdown",
   "metadata": {},
   "source": [
    "### Errors\n",
    "\n",
    "    - ImportError\n",
    "    - LookupError\n",
    "    - MemoryError \n",
    "    - NameError\n",
    "    - OSError\n",
    "    - FileNotFoundError\n",
    "    - ReferenceError\n",
    "    - RuntimeError\n",
    "    - SyntaxError\n",
    "    - SystemError \n",
    "    - TypeError\n",
    "    - ValueError\n",
    "    - Warning"
   ]
  },
  {
   "cell_type": "code",
   "execution_count": 26,
   "metadata": {},
   "outputs": [
    {
     "name": "stdout",
     "output_type": "stream",
     "text": [
      "None\n"
     ]
    }
   ],
   "source": [
    "class Manager:\n",
    "    def __init__(self, id= '', name = ''):\n",
    "        self.id  = id\n",
    "        self.name = name \n",
    "        self.swipecard = None\n",
    "        self.lstWorkers = []\n",
    "        \n",
    "    def setSwipeID(self, swipeCard):\n",
    "        self.swipeCard = swipeCard\n",
    "    \n",
    "    def __str__(self):\n",
    "        return 'Fuck you'\n",
    "        \n",
    "class Worker:\n",
    "    def __init__(self, id = '', name = ''):\n",
    "        self.id = id\n",
    "        self.name = name\n",
    "        \n",
    "            \n",
    "worker1 = Worker()\n",
    "M = Manager(worker1)\n",
    "print(M.setSwipeID(1))\n"
   ]
  }
 ],
 "metadata": {
  "kernelspec": {
   "display_name": "Python 3.9.2 64-bit",
   "language": "python",
   "name": "python3"
  },
  "language_info": {
   "codemirror_mode": {
    "name": "ipython",
    "version": 3
   },
   "file_extension": ".py",
   "mimetype": "text/x-python",
   "name": "python",
   "nbconvert_exporter": "python",
   "pygments_lexer": "ipython3",
   "version": "3.9.2"
  },
  "orig_nbformat": 4,
  "vscode": {
   "interpreter": {
    "hash": "916dbcbb3f70747c44a77c7bcd40155683ae19c65e1c03b4aa3499c5328201f1"
   }
  }
 },
 "nbformat": 4,
 "nbformat_minor": 2
}
